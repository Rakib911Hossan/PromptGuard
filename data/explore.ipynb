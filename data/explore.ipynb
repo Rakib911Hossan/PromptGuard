{
 "cells": [
  {
   "cell_type": "code",
   "execution_count": null,
   "id": "6a38c477",
   "metadata": {},
   "outputs": [],
   "source": [
    "import pandas as pd\n",
    "import os"
   ]
  },
  {
   "cell_type": "code",
   "execution_count": null,
   "id": "e246d204",
   "metadata": {},
   "outputs": [],
   "source": [
    "def get_balanced_test_data(df):\n",
    "    df[\"label\"] = df[\"label\"].fillna(\"none\")\n",
    "    df[\"label\"] = df[\"label\"].astype(str)\n",
    "    df[\"label\"] = df[\"label\"].str.lower()\n",
    "    path = f\"./1a_test_labeled_balanced.csv\"\n",
    "    balanced_df = df.groupby(\"label\").sample(n=29, random_state=42)\n",
    "    balanced_df = balanced_df.reset_index(drop=True)\n",
    "    balanced_df.to_csv(path, index=False)\n",
    "    return balanced_df"
   ]
  },
  {
   "cell_type": "code",
   "execution_count": null,
   "id": "38984cd9",
   "metadata": {},
   "outputs": [],
   "source": [
    "df = pd.read_csv(\"./1a_test_labeled.tsv\", sep=\"\\t\")\n",
    "\n",
    "df[\"label\"] = df[\"label\"].fillna(\"none\")\n",
    "df[\"label\"] = df[\"label\"].astype(str)\n",
    "df[\"label\"] = df[\"label\"].str.lower()\n",
    "df.to_csv(\"./1a_test_labeled.csv\", index=False)\n",
    "\n",
    "df[\"label\"].value_counts(), len(df)"
   ]
  },
  {
   "cell_type": "code",
   "execution_count": null,
   "id": "679bf5b2",
   "metadata": {},
   "outputs": [],
   "source": [
    "df = get_balanced_test_data(df)\n",
    "df.head(), len(df)"
   ]
  },
  {
   "cell_type": "code",
   "execution_count": null,
   "id": "a7937d04",
   "metadata": {},
   "outputs": [],
   "source": [
    "result = 500\n",
    "for i in range(801, 1000):\n",
    "    result = result * i\n",
    "print(result)"
   ]
  },
  {
   "cell_type": "code",
   "execution_count": null,
   "id": "83508e76",
   "metadata": {},
   "outputs": [
    {
     "name": "stdout",
     "output_type": "stream",
     "text": [
      "1415926536\n"
     ]
    }
   ],
   "source": [
    "import mpmath\n",
    "\n",
    "# Set precision to 12 digits\n",
    "mpmath.mp.dps = 11\n",
    "# Get pi as string, skip \"3.\"\n",
    "pi_str = str(mpmath.mp.pi)[2:]\n",
    "\n",
    "print(pi_str)"
   ]
  },
  {
   "cell_type": "code",
   "execution_count": null,
   "id": "2cfb8f54",
   "metadata": {},
   "outputs": [
    {
     "name": "stdout",
     "output_type": "stream",
     "text": [
      "10\n",
      "8979323846\n"
     ]
    }
   ],
   "source": [
    "import mpmath\n",
    "\n",
    "# Set precision to 22\n",
    "mpmath.mp.dps = 21\n",
    "# Get pi as string, skip \"3.\" and 10 digits\n",
    "pi_str = str(mpmath.mp.pi)[12:]\n",
    "\n",
    "print(pi_str)  # 89793238463"
   ]
  },
  {
   "cell_type": "code",
   "execution_count": null,
   "id": "2cbab557",
   "metadata": {},
   "outputs": [],
   "source": [
    "from sympy import isprime\n",
    "\n",
    "print(isprime(int(\"89793238463\")))"
   ]
  },
  {
   "cell_type": "code",
   "execution_count": null,
   "id": "518fdba2",
   "metadata": {},
   "outputs": [
    {
     "name": "stdout",
     "output_type": "stream",
     "text": [
      "Found prime: 5926535897\n"
     ]
    },
    {
     "data": {
      "text/plain": [
       "5926535897"
      ]
     },
     "execution_count": 25,
     "metadata": {},
     "output_type": "execute_result"
    }
   ],
   "source": [
    "import mpmath\n",
    "from sympy import isprime\n",
    "\n",
    "# Set precision to 1 million digits\n",
    "mpmath.mp.dps = 1000000\n",
    "# Get pi as string, skip \"3.\"\n",
    "pi_str = str(mpmath.mp.pi)[2:]\n",
    "\n",
    "\n",
    "def find_prime_in_pi(length=10):\n",
    "    for i in range(len(pi_str) - length + 1):\n",
    "        num_str = pi_str[i : i + length]\n",
    "        num = int(num_str)\n",
    "        if isprime(num):\n",
    "            print(f\"Found prime: {num}\")\n",
    "            return num\n",
    "    print(\"No prime found.\")\n",
    "    return None\n",
    "\n",
    "\n",
    "find_prime_in_pi()\n",
    "# Found prime: 5926535897\n"
   ]
  },
  {
   "cell_type": "code",
   "execution_count": 26,
   "id": "16a7fdb7",
   "metadata": {},
   "outputs": [
    {
     "ename": "OverflowError",
     "evalue": "integer division result too large for a float",
     "output_type": "error",
     "traceback": [
      "\u001b[31m---------------------------------------------------------------------------\u001b[39m",
      "\u001b[31mOverflowError\u001b[39m                             Traceback (most recent call last)",
      "\u001b[36mCell\u001b[39m\u001b[36m \u001b[39m\u001b[32mIn[26]\u001b[39m\u001b[32m, line 6\u001b[39m\n\u001b[32m      4\u001b[39m denominator_part1 = math.factorial(\u001b[32m800\u001b[39m)\n\u001b[32m      5\u001b[39m denominator_part2 = math.factorial(\u001b[32m100\u001b[39m)\n\u001b[32m----> \u001b[39m\u001b[32m6\u001b[39m result = \u001b[43mnumerator\u001b[49m\u001b[43m \u001b[49m\u001b[43m/\u001b[49m\u001b[43m \u001b[49m\u001b[43m(\u001b[49m\u001b[43mdenominator_part1\u001b[49m\u001b[43m \u001b[49m\u001b[43m*\u001b[49m\u001b[43m \u001b[49m\u001b[43mdenominator_part2\u001b[49m\u001b[43m)\u001b[49m\n\u001b[32m      7\u001b[39m \u001b[38;5;28mprint\u001b[39m(result)\n",
      "\u001b[31mOverflowError\u001b[39m: integer division result too large for a float"
     ]
    }
   ],
   "source": [
    "import math\n",
    "\n",
    "numerator = math.factorial(1000)\n",
    "denominator_part1 = math.factorial(800)\n",
    "denominator_part2 = math.factorial(100)\n",
    "result = numerator / (denominator_part1 * denominator_part2)\n",
    "print(result)"
   ]
  },
  {
   "cell_type": "code",
   "execution_count": null,
   "id": "d6cf4cb6",
   "metadata": {},
   "outputs": [],
   "source": []
  }
 ],
 "metadata": {
  "kernelspec": {
   "display_name": ".venv",
   "language": "python",
   "name": "python3"
  },
  "language_info": {
   "codemirror_mode": {
    "name": "ipython",
    "version": 3
   },
   "file_extension": ".py",
   "mimetype": "text/x-python",
   "name": "python",
   "nbconvert_exporter": "python",
   "pygments_lexer": "ipython3",
   "version": "3.12.11"
  }
 },
 "nbformat": 4,
 "nbformat_minor": 5
}
